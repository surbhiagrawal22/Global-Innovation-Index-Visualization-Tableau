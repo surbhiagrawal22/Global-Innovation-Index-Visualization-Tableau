{
 "cells": [
  {
   "cell_type": "code",
   "execution_count": 31,
   "metadata": {
    "ExecuteTime": {
     "end_time": "2021-03-04T13:12:12.967091Z",
     "start_time": "2021-03-04T13:12:12.251775Z"
    },
    "scrolled": true
   },
   "outputs": [
    {
     "name": "stdout",
     "output_type": "stream",
     "text": [
      "['2019 gii Analysis_2021mar.03221947.csv', '2017 GII Analysis_2021mar.03222813.csv', '2014 GII Analysis_2021mar.03222912.csv', '2013 GII Analysis_2021mar.03223155.csv', '2020 GII Analysis_2021mar.03222144.csv', '2016 GII Analysis_2021mar.03222831.csv', '2015 GII Analysis_2021mar.03222851.csv', '2018 GII Analysis_2021mar.03222215.csv']\n",
      "       rank                         Economy Income Group(Strength/Weakness)  \\\n",
      "0       1.0                     Switzerland                        Strength   \n",
      "1       2.0                          Sweden                        Strength   \n",
      "2       3.0  United States of America (the)                        Strength   \n",
      "3       4.0               Netherlands (the)                        Strength   \n",
      "4       5.0            United Kingdom (the)                        Strength   \n",
      "...     ...                             ...                             ...   \n",
      "1062  122.0                           Niger                             NaN   \n",
      "1063  123.0                   Côte d'Ivoire                        Weakness   \n",
      "1064  124.0                    Burkina Faso                        Weakness   \n",
      "1065  125.0                            Togo                        Weakness   \n",
      "1066  126.0                           Yemen                        Weakness   \n",
      "\n",
      "     Strength / Weakness  Score  year  \n",
      "0               Strength   67.2  2019  \n",
      "1               Strength   63.7  2019  \n",
      "2               Strength   61.7  2019  \n",
      "3               Strength   61.4  2019  \n",
      "4               Strength   61.3  2019  \n",
      "...                  ...    ...   ...  \n",
      "1062                 NaN   20.6  2018  \n",
      "1063            Weakness   20.0  2018  \n",
      "1064            Weakness   18.9  2018  \n",
      "1065            Weakness   18.9  2018  \n",
      "1066            Weakness   15.0  2018  \n",
      "\n",
      "[1067 rows x 6 columns]\n"
     ]
    }
   ],
   "source": [
    "import glob\n",
    "import os\n",
    "import pandas as pd\n",
    "\n",
    "# changing the current working directory\n",
    "os.chdir(\"/Users/surbhi/Downloads/Global Innovation Index\")\n",
    "\n",
    "# appending all file paths in a varaible filepath with the word Analysis in it \n",
    "filepath=[]\n",
    "for fpath in glob.glob('*Analysis*.*'):\n",
    "    filepath.append(fpath)\n",
    "    \n",
    "print(filepath)\n",
    "\n",
    "dataframe=[]\n",
    "\n",
    "for file in filepath:   \n",
    "    df = pd.read_csv(file)\n",
    "    df['filename'] = file\n",
    "    dataframe.append(df)   \n",
    "\n",
    "df = pd.concat(dataframe, ignore_index=True)\n",
    "\n",
    "df[\"year\"]=df[\"filename\"].str[:4]\n",
    "\n",
    "# dropping the column filename \n",
    "df.drop(columns=[\"filename\"],inplace=True)\n",
    "\n",
    "\n",
    "# saving to the directory\n",
    "df.to_csv(\"/Users/surbhi/Downloads/Global Innovation Index/FinalCombinedDataframe.csv\",index=False)\n"
   ]
  },
  {
   "cell_type": "code",
   "execution_count": null,
   "metadata": {},
   "outputs": [],
   "source": []
  }
 ],
 "metadata": {
  "kernelspec": {
   "display_name": "Python 3",
   "language": "python",
   "name": "python3"
  },
  "language_info": {
   "codemirror_mode": {
    "name": "ipython",
    "version": 3
   },
   "file_extension": ".py",
   "mimetype": "text/x-python",
   "name": "python",
   "nbconvert_exporter": "python",
   "pygments_lexer": "ipython3",
   "version": "3.8.5"
  },
  "toc": {
   "base_numbering": 1,
   "nav_menu": {},
   "number_sections": true,
   "sideBar": true,
   "skip_h1_title": false,
   "title_cell": "Table of Contents",
   "title_sidebar": "Contents",
   "toc_cell": false,
   "toc_position": {},
   "toc_section_display": true,
   "toc_window_display": false
  }
 },
 "nbformat": 4,
 "nbformat_minor": 4
}
