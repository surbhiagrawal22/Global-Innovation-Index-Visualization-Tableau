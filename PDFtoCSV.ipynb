{
  "nbformat": 4,
  "nbformat_minor": 0,
  "metadata": {
    "colab": {
      "name": "PDFtoCSV.ipynb",
      "provenance": [],
      "authorship_tag": "ABX9TyNXAEB6D9EoZDeKecjC+nh8",
      "include_colab_link": true
    },
    "kernelspec": {
      "name": "python3",
      "display_name": "Python 3"
    }
  },
  "cells": [
    {
      "cell_type": "markdown",
      "metadata": {
        "id": "view-in-github",
        "colab_type": "text"
      },
      "source": [
        "<a href=\"https://colab.research.google.com/github/surbhiagrawal22/Global-Innovation-Index-Visualization-Tableau/blob/main/PDFtoCSV.ipynb\" target=\"_parent\"><img src=\"https://colab.research.google.com/assets/colab-badge.svg\" alt=\"Open In Colab\"/></a>"
      ]
    },
    {
      "cell_type": "code",
      "metadata": {
        "id": "JbxrkpIhBmZF"
      },
      "source": [
        "Install the below library to convert the PDF files to CSV files"
      ],
      "execution_count": null,
      "outputs": []
    },
    {
      "cell_type": "markdown",
      "metadata": {
        "id": "PE3gxYDhBiJG"
      },
      "source": [
        "pip install git+https://github.com/pdftables/python-pdftables-api.git\n"
      ]
    },
    {
      "cell_type": "code",
      "metadata": {
        "id": "67MnqAiA_TLe"
      },
      "source": [
        "import pdftables_api\n",
        "c = pdftables_api.Client('***********'). \"\"\" *********** should be specific to users API keys\"\"\"\n",
        "c.xlsx('/content/patent application_2020.pdf', 'patent-2019-2020.xlsx') \n",
        "#replace c.xlsx with c.csv to convert to CSV\n",
        "#replace c.xlsx with c.xml to convert to XML\n",
        "#replace c.xlsx with c.html to convert to HTML"
      ],
      "execution_count": 50,
      "outputs": []
    },
    {
      "cell_type": "markdown",
      "metadata": {
        "id": "7y9cSx_aBhbx"
      },
      "source": [
        ""
      ]
    },
    {
      "cell_type": "code",
      "metadata": {
        "id": "2F2DGfoaBgw5"
      },
      "source": [
        ""
      ],
      "execution_count": null,
      "outputs": []
    }
  ]
}